{
 "cells": [
  {
   "cell_type": "code",
   "execution_count": 27,
   "id": "human-desire",
   "metadata": {},
   "outputs": [],
   "source": [
    "import os\n",
    "os.environ['DJANGO_SETTINGS_MODULE']='youm_test.settings'\n",
    "os.environ[\"DJANGO_ALLOW_ASYNC_UNSAFE\"] = \"true\""
   ]
  },
  {
   "cell_type": "code",
   "execution_count": 28,
   "id": "permanent-carol",
   "metadata": {},
   "outputs": [],
   "source": [
    "import django\n",
    "django.setup()"
   ]
  },
  {
   "cell_type": "code",
   "execution_count": 29,
   "id": "peripheral-consistency",
   "metadata": {},
   "outputs": [
    {
     "output_type": "stream",
     "name": "stdout",
     "text": [
      "SELECT \"instagram_post\".\"id\", \"instagram_post\".\"author_id\", \"instagram_post\".\"message\", \"instagram_post\".\"is_public\", \"instagram_post\".\"photo\", \"instagram_post\".\"created_at\", \"instagram_post\".\"updated_at\" FROM \"instagram_post\" ORDER BY \"instagram_post\".\"id\" DESC\n"
     ]
    }
   ],
   "source": [
    "from instagram.models import Post\n",
    "qs=Post.objects.all()\n",
    "print(qs.query)"
   ]
  },
  {
   "cell_type": "code",
   "execution_count": 30,
   "id": "generic-tract",
   "metadata": {
    "scrolled": true
   },
   "outputs": [
    {
     "output_type": "stream",
     "name": "stdout",
     "text": [
      "<class 'django.db.models.query.QuerySet'>\n<QuerySet [<Post: asfasdf!!!!!>, <Post: ~~~@@!#!@#>, <Post: ???????>]>\n"
     ]
    }
   ],
   "source": [
    "print(type(qs))\n",
    "print(qs)\n"
   ]
  },
  {
   "cell_type": "code",
   "execution_count": 31,
   "id": "pregnant-forty",
   "metadata": {},
   "outputs": [
    {
     "output_type": "stream",
     "name": "stdout",
     "text": [
      "SELECT \"instagram_post\".\"id\", \"instagram_post\".\"author_id\", \"instagram_post\".\"message\", \"instagram_post\".\"is_public\", \"instagram_post\".\"photo\", \"instagram_post\".\"created_at\", \"instagram_post\".\"updated_at\" FROM \"instagram_post\" ORDER BY \"instagram_post\".\"id\" DESC\n<QuerySet [<Post: asfasdf!!!!!>, <Post: ~~~@@!#!@#>, <Post: ???????>]>\n"
     ]
    }
   ],
   "source": [
    "qs=Post.objects.all().order_by('-pk')\n",
    "print(qs.query)\n",
    "print(qs)"
   ]
  },
  {
   "cell_type": "code",
   "execution_count": 32,
   "id": "novel-sample",
   "metadata": {},
   "outputs": [
    {
     "output_type": "stream",
     "name": "stdout",
     "text": [
      "SELECT \"instagram_post\".\"id\", \"instagram_post\".\"author_id\", \"instagram_post\".\"message\", \"instagram_post\".\"is_public\", \"instagram_post\".\"photo\", \"instagram_post\".\"created_at\", \"instagram_post\".\"updated_at\" FROM \"instagram_post\" ORDER BY \"instagram_post\".\"id\" DESC LIMIT 2\n<QuerySet [<Post: asfasdf!!!!!>, <Post: ~~~@@!#!@#>]>\n"
     ]
    }
   ],
   "source": [
    "qs=Post.objects.all().order_by('-pk')[:2]\n",
    "print(qs.query)\n",
    "print(qs)"
   ]
  },
  {
   "cell_type": "code",
   "execution_count": 33,
   "id": "iraqi-associate",
   "metadata": {},
   "outputs": [
    {
     "output_type": "stream",
     "name": "stdout",
     "text": [
      "3,asfasdf!!!!!,2021-03-03 05:11:36.256459+00:00\n2,~~~@@!#!@#,2021-03-03 05:11:31.560503+00:00\n"
     ]
    }
   ],
   "source": [
    "for post in qs:\n",
    "    # print(post.message,post.created_at)\n",
    "    print('{id},{message},{created_at}'.format(**post.__dict__))"
   ]
  },
  {
   "cell_type": "code",
   "execution_count": 34,
   "metadata": {},
   "outputs": [
    {
     "output_type": "execute_result",
     "data": {
      "text/plain": [
       "<QuerySet [<Post: ~~~@@!#!@#>]>"
      ]
     },
     "metadata": {},
     "execution_count": 34
    }
   ],
   "source": [
    "qs=Post.objects.all().filter(message__startswith='~~')\n",
    "qs"
   ]
  },
  {
   "cell_type": "code",
   "execution_count": 35,
   "metadata": {},
   "outputs": [
    {
     "output_type": "execute_result",
     "data": {
      "text/plain": [
       "<QuerySet [<Post: ~~~@@!#!@#>]>"
      ]
     },
     "metadata": {},
     "execution_count": 35
    }
   ],
   "source": [
    "query='~~~'\n",
    "qs=Post.objects.all().filter(message__icontains=query)\\\n",
    "    .order_by('-id')\n",
    "qs\n"
   ]
  },
  {
   "cell_type": "code",
   "execution_count": 36,
   "metadata": {},
   "outputs": [
    {
     "output_type": "stream",
     "name": "stdout",
     "text": [
      "SELECT \"instagram_post\".\"id\", \"instagram_post\".\"author_id\", \"instagram_post\".\"message\", \"instagram_post\".\"is_public\", \"instagram_post\".\"photo\", \"instagram_post\".\"created_at\", \"instagram_post\".\"updated_at\" FROM \"instagram_post\" WHERE (\"instagram_post\".\"message\" LIKE %~~~% ESCAPE '\\' AND (\"instagram_post\".\"id\" >= 2 OR \"instagram_post\".\"message\" LIKE ~~~% ESCAPE '\\') AND \"instagram_post\".\"id\" = 3) ORDER BY \"instagram_post\".\"id\" DESC\n"
     ]
    }
   ],
   "source": [
    "from django.db.models import Q\n",
    "# qs=Post.objects.all().filter(id__gte=2, message__startswith='~~')\n",
    "# qs=Post.objects.all().filter(Q(id__gte=2), Q(message__startswith='~~'))\n",
    "# qs=Post.objects.all().filter(Q(id__gte=2)|Q(message__startswith='~~'))\n",
    "# qs=Post.objects.all().filter(Q(id__gte=2) & Q(message__startswith='~~'))\n",
    "condition=Q(id__gte=2)|Q(message__startswith=query)\n",
    "condition &=Q(id=3)\n",
    "qs=qs.filter(condition)\n",
    "print(qs.query)"
   ]
  },
  {
   "cell_type": "code",
   "execution_count": 37,
   "metadata": {},
   "outputs": [
    {
     "output_type": "execute_result",
     "data": {
      "text/plain": [
       "<QuerySet [<Post: asfasdf!!!!!>, <Post: ~~~@@!#!@#>, <Post: ???????>]>"
      ]
     },
     "metadata": {},
     "execution_count": 37
    }
   ],
   "source": [
    "Post.objects.all()"
   ]
  },
  {
   "cell_type": "code",
   "execution_count": 38,
   "metadata": {},
   "outputs": [
    {
     "output_type": "execute_result",
     "data": {
      "text/plain": [
       "<QuerySet [<Post: asfasdf!!!!!>, <Post: ~~~@@!#!@#>, <Post: ???????>]>"
      ]
     },
     "metadata": {},
     "execution_count": 38
    }
   ],
   "source": [
    "Post.objects.all()[:3]"
   ]
  },
  {
   "cell_type": "code",
   "execution_count": 39,
   "metadata": {},
   "outputs": [
    {
     "output_type": "execute_result",
     "data": {
      "text/plain": [
       "<QuerySet [<Post: ~~~@@!#!@#>, <Post: ???????>]>"
      ]
     },
     "metadata": {},
     "execution_count": 39
    }
   ],
   "source": [
    "Post.objects.all()[1:3]"
   ]
  },
  {
   "cell_type": "code",
   "execution_count": 40,
   "metadata": {},
   "outputs": [
    {
     "output_type": "execute_result",
     "data": {
      "text/plain": [
       "[<Post: ~~~@@!#!@#>]"
      ]
     },
     "metadata": {},
     "execution_count": 40
    }
   ],
   "source": [
    " Post.objects.all()[1:3:2]"
   ]
  },
  {
   "cell_type": "code",
   "execution_count": 41,
   "metadata": {},
   "outputs": [
    {
     "output_type": "execute_result",
     "data": {
      "text/plain": [
       "<QuerySet [<Comment: Comment object (1)>, <Comment: Comment object (2)>]>"
      ]
     },
     "metadata": {},
     "execution_count": 41
    }
   ],
   "source": [
    "from instagram.models import Comment\n",
    "Comment.objects.all()"
   ]
  },
  {
   "cell_type": "code",
   "execution_count": 42,
   "metadata": {},
   "outputs": [
    {
     "output_type": "execute_result",
     "data": {
      "text/plain": [
       "<Post: asfasdf!!!!!>"
      ]
     },
     "metadata": {},
     "execution_count": 42
    }
   ],
   "source": [
    "comment =Comment.objects.first()\n",
    "# Post.objects.get(pk=comment.post_id)\n",
    "comment.post"
   ]
  },
  {
   "cell_type": "code",
   "execution_count": 43,
   "metadata": {},
   "outputs": [
    {
     "output_type": "execute_result",
     "data": {
      "text/plain": [
       "<Post: asfasdf!!!!!>"
      ]
     },
     "metadata": {},
     "execution_count": 43
    }
   ],
   "source": [
    "post=Post.objects.first()\n",
    "post\n"
   ]
  },
  {
   "cell_type": "code",
   "execution_count": 44,
   "metadata": {},
   "outputs": [
    {
     "output_type": "stream",
     "name": "stdout",
     "text": [
      "False\n"
     ]
    },
    {
     "output_type": "execute_result",
     "data": {
      "text/plain": [
       "'comment for ~~~~~@@@@'"
      ]
     },
     "metadata": {},
     "execution_count": 44
    }
   ],
   "source": [
    "Comment.objects.filter(post_id=3)\n",
    "Comment.objects.filter(post__id=3)\n",
    "Comment.objects.filter(post=post)\n",
    "post=Post.objects.get(pk=2)\n",
    "print(post.is_public)\n",
    "post.comment_set.all()[0].message\n"
   ]
  },
  {
   "cell_type": "code",
   "execution_count": 45,
   "metadata": {},
   "outputs": [
    {
     "output_type": "execute_result",
     "data": {
      "text/plain": [
       "<User: youme>"
      ]
     },
     "metadata": {},
     "execution_count": 45
    }
   ],
   "source": [
    "from accounts.models import Profile\n",
    "profile=Profile.objects.first()\n",
    "profile.user"
   ]
  },
  {
   "cell_type": "code",
   "execution_count": 46,
   "metadata": {},
   "outputs": [
    {
     "output_type": "execute_result",
     "data": {
      "text/plain": [
       "<Profile: Profile object (1)>"
      ]
     },
     "metadata": {},
     "execution_count": 46
    }
   ],
   "source": [
    "from django.contrib.auth import get_user_model\n",
    "User=get_user_model()\n",
    "user=User.objects.first()\n",
    "user.profile\n",
    "Profile.objects.get(user=user)"
   ]
  },
  {
   "cell_type": "code",
   "execution_count": null,
   "metadata": {},
   "outputs": [],
   "source": []
  }
 ],
 "metadata": {
  "kernelspec": {
   "display_name": "Python 3",
   "language": "python",
   "name": "python3"
  },
  "language_info": {
   "codemirror_mode": {
    "name": "ipython",
    "version": 3
   },
   "file_extension": ".py",
   "mimetype": "text/x-python",
   "name": "python",
   "nbconvert_exporter": "python",
   "pygments_lexer": "ipython3",
   "version": "3.9.1-final"
  }
 },
 "nbformat": 4,
 "nbformat_minor": 5
}