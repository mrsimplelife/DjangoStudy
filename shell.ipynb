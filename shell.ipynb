{
 "cells": [
  {
   "cell_type": "code",
   "execution_count": 6,
   "id": "human-desire",
   "metadata": {},
   "outputs": [],
   "source": [
    "import os\n",
    "os.environ['DJANGO_SETTINGS_MODULE']='youm_test.settings'\n",
    "os.environ[\"DJANGO_ALLOW_ASYNC_UNSAFE\"] = \"true\""
   ]
  },
  {
   "cell_type": "code",
   "execution_count": 7,
   "id": "permanent-carol",
   "metadata": {},
   "outputs": [],
   "source": [
    "import django\n",
    "django.setup()"
   ]
  },
  {
   "cell_type": "code",
   "execution_count": 8,
   "id": "peripheral-consistency",
   "metadata": {},
   "outputs": [
    {
     "output_type": "stream",
     "name": "stdout",
     "text": [
      "SELECT \"instagram_post\".\"id\", \"instagram_post\".\"message\", \"instagram_post\".\"is_public\", \"instagram_post\".\"photo\", \"instagram_post\".\"created_at\", \"instagram_post\".\"updated_at\" FROM \"instagram_post\"\n"
     ]
    }
   ],
   "source": [
    "from instagram.models import Post\n",
    "qs=Post.objects.all()\n",
    "print(qs.query)"
   ]
  },
  {
   "cell_type": "code",
   "execution_count": 9,
   "id": "generic-tract",
   "metadata": {
    "scrolled": true
   },
   "outputs": [
    {
     "output_type": "stream",
     "name": "stdout",
     "text": [
      "<class 'django.db.models.query.QuerySet'>\n<QuerySet [<Post: ???????>, <Post: ~~~@@!#!@#>, <Post: asfasdf!!!!!>]>\n"
     ]
    }
   ],
   "source": [
    "print(type(qs))\n",
    "print(qs)\n"
   ]
  },
  {
   "cell_type": "code",
   "execution_count": 10,
   "id": "pregnant-forty",
   "metadata": {},
   "outputs": [
    {
     "output_type": "stream",
     "name": "stdout",
     "text": [
      "SELECT \"instagram_post\".\"id\", \"instagram_post\".\"message\", \"instagram_post\".\"is_public\", \"instagram_post\".\"photo\", \"instagram_post\".\"created_at\", \"instagram_post\".\"updated_at\" FROM \"instagram_post\" ORDER BY \"instagram_post\".\"id\" DESC\n<QuerySet [<Post: asfasdf!!!!!>, <Post: ~~~@@!#!@#>, <Post: ???????>]>\n"
     ]
    }
   ],
   "source": [
    "qs=Post.objects.all().order_by('-pk')\n",
    "print(qs.query)\n",
    "print(qs)"
   ]
  },
  {
   "cell_type": "code",
   "execution_count": 11,
   "id": "novel-sample",
   "metadata": {},
   "outputs": [
    {
     "output_type": "stream",
     "name": "stdout",
     "text": [
      "SELECT \"instagram_post\".\"id\", \"instagram_post\".\"message\", \"instagram_post\".\"is_public\", \"instagram_post\".\"photo\", \"instagram_post\".\"created_at\", \"instagram_post\".\"updated_at\" FROM \"instagram_post\" ORDER BY \"instagram_post\".\"id\" DESC LIMIT 2\n<QuerySet [<Post: asfasdf!!!!!>, <Post: ~~~@@!#!@#>]>\n"
     ]
    }
   ],
   "source": [
    "qs=Post.objects.all().order_by('-pk')[:2]\n",
    "print(qs.query)\n",
    "print(qs)"
   ]
  },
  {
   "cell_type": "code",
   "execution_count": 33,
   "id": "iraqi-associate",
   "metadata": {},
   "outputs": [
    {
     "output_type": "stream",
     "name": "stdout",
     "text": [
      "3,asfasdf!!!!!,2021-03-03 05:11:36.256459+00:00\n2,~~~@@!#!@#,2021-03-03 05:11:31.560503+00:00\n"
     ]
    }
   ],
   "source": [
    "for post in qs:\n",
    "    # print(post.message,post.created_at)\n",
    "    print('{id},{message},{created_at}'.format(**post.__dict__))"
   ]
  },
  {
   "cell_type": "code",
   "execution_count": 36,
   "metadata": {},
   "outputs": [
    {
     "output_type": "execute_result",
     "data": {
      "text/plain": [
       "<QuerySet [<Post: ~~~@@!#!@#>]>"
      ]
     },
     "metadata": {},
     "execution_count": 36
    }
   ],
   "source": [
    "qs=Post.objects.all().filter(message__startswith='~~')\n",
    "qs"
   ]
  },
  {
   "cell_type": "code",
   "execution_count": 41,
   "metadata": {},
   "outputs": [
    {
     "output_type": "execute_result",
     "data": {
      "text/plain": [
       "<QuerySet [<Post: ~~~@@!#!@#>]>"
      ]
     },
     "metadata": {},
     "execution_count": 41
    }
   ],
   "source": [
    "query='~~~'\n",
    "qs=Post.objects.all().filter(message__icontains=query)\\\n",
    "    .order_by('-id')\n",
    "qs\n"
   ]
  },
  {
   "cell_type": "code",
   "execution_count": 52,
   "metadata": {},
   "outputs": [
    {
     "output_type": "stream",
     "name": "stdout",
     "text": [
      "SELECT \"instagram_post\".\"id\", \"instagram_post\".\"message\", \"instagram_post\".\"is_public\", \"instagram_post\".\"photo\", \"instagram_post\".\"created_at\", \"instagram_post\".\"updated_at\" FROM \"instagram_post\" WHERE (\"instagram_post\".\"id\" >= 2 AND \"instagram_post\".\"message\" LIKE ~~% ESCAPE '\\' AND (\"instagram_post\".\"id\" >= 2 OR \"instagram_post\".\"message\" LIKE ~~~% ESCAPE '\\') AND \"instagram_post\".\"id\" = 3)\n"
     ]
    }
   ],
   "source": [
    "from django.db.models import Q\n",
    "# qs=Post.objects.all().filter(id__gte=2, message__startswith='~~')\n",
    "# qs=Post.objects.all().filter(Q(id__gte=2), Q(message__startswith='~~'))\n",
    "# qs=Post.objects.all().filter(Q(id__gte=2)|Q(message__startswith='~~'))\n",
    "# qs=Post.objects.all().filter(Q(id__gte=2) & Q(message__startswith='~~'))\n",
    "condition=Q(id__gte=2)|Q(message__startswith=query)\n",
    "condition &=Q(id=3)\n",
    "qs=qs.filter(condition)\n",
    "print(qs.query)"
   ]
  },
  {
   "cell_type": "code",
   "execution_count": null,
   "metadata": {},
   "outputs": [],
   "source": []
  }
 ],
 "metadata": {
  "kernelspec": {
   "display_name": "Python 3",
   "language": "python",
   "name": "python3"
  },
  "language_info": {
   "codemirror_mode": {
    "name": "ipython",
    "version": 3
   },
   "file_extension": ".py",
   "mimetype": "text/x-python",
   "name": "python",
   "nbconvert_exporter": "python",
   "pygments_lexer": "ipython3",
   "version": "3.9.1-final"
  }
 },
 "nbformat": 4,
 "nbformat_minor": 5
}