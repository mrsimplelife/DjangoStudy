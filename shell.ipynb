{
 "cells": [
  {
   "cell_type": "code",
   "execution_count": 2,
   "id": "human-desire",
   "metadata": {},
   "outputs": [],
   "source": [
    "import os\n",
    "os.environ['DJANGO_SETTINGS_MODULE']='youm_test.settings'\n",
    "os.environ[\"DJANGO_ALLOW_ASYNC_UNSAFE\"] = \"true\""
   ]
  },
  {
   "cell_type": "code",
   "execution_count": 3,
   "id": "permanent-carol",
   "metadata": {},
   "outputs": [],
   "source": [
    "import django\n",
    "django.setup()"
   ]
  },
  {
   "cell_type": "code",
   "execution_count": 4,
   "id": "peripheral-consistency",
   "metadata": {},
   "outputs": [
    {
     "output_type": "stream",
     "name": "stdout",
     "text": [
      "SELECT \"instagram_post\".\"id\", \"instagram_post\".\"author_id\", \"instagram_post\".\"message\", \"instagram_post\".\"is_public\", \"instagram_post\".\"photo\", \"instagram_post\".\"created_at\", \"instagram_post\".\"updated_at\" FROM \"instagram_post\" ORDER BY \"instagram_post\".\"id\" DESC\n"
     ]
    }
   ],
   "source": [
    "from instagram.models import Post\n",
    "qs=Post.objects.all()\n",
    "print(qs.query)"
   ]
  },
  {
   "cell_type": "code",
   "execution_count": 5,
   "id": "generic-tract",
   "metadata": {
    "scrolled": true
   },
   "outputs": [
    {
     "output_type": "stream",
     "name": "stdout",
     "text": [
      "<class 'django.db.models.query.QuerySet'>\n<QuerySet [<Post: asfasdf!!!!!>, <Post: ~~~@@!#!@#>, <Post: ???????>]>\n"
     ]
    }
   ],
   "source": [
    "print(type(qs))\n",
    "print(qs)\n"
   ]
  },
  {
   "cell_type": "code",
   "execution_count": 6,
   "id": "pregnant-forty",
   "metadata": {},
   "outputs": [
    {
     "output_type": "stream",
     "name": "stdout",
     "text": [
      "SELECT \"instagram_post\".\"id\", \"instagram_post\".\"author_id\", \"instagram_post\".\"message\", \"instagram_post\".\"is_public\", \"instagram_post\".\"photo\", \"instagram_post\".\"created_at\", \"instagram_post\".\"updated_at\" FROM \"instagram_post\" ORDER BY \"instagram_post\".\"id\" DESC\n<QuerySet [<Post: asfasdf!!!!!>, <Post: ~~~@@!#!@#>, <Post: ???????>]>\n"
     ]
    }
   ],
   "source": [
    "qs=Post.objects.all().order_by('-pk')\n",
    "print(qs.query)\n",
    "print(qs)"
   ]
  },
  {
   "cell_type": "code",
   "execution_count": 7,
   "id": "novel-sample",
   "metadata": {},
   "outputs": [
    {
     "output_type": "stream",
     "name": "stdout",
     "text": [
      "SELECT \"instagram_post\".\"id\", \"instagram_post\".\"author_id\", \"instagram_post\".\"message\", \"instagram_post\".\"is_public\", \"instagram_post\".\"photo\", \"instagram_post\".\"created_at\", \"instagram_post\".\"updated_at\" FROM \"instagram_post\" ORDER BY \"instagram_post\".\"id\" DESC LIMIT 2\n<QuerySet [<Post: asfasdf!!!!!>, <Post: ~~~@@!#!@#>]>\n"
     ]
    }
   ],
   "source": [
    "qs=Post.objects.all().order_by('-pk')[:2]\n",
    "print(qs.query)\n",
    "print(qs)"
   ]
  },
  {
   "cell_type": "code",
   "execution_count": 8,
   "id": "iraqi-associate",
   "metadata": {},
   "outputs": [
    {
     "output_type": "stream",
     "name": "stdout",
     "text": [
      "3,asfasdf!!!!!,2021-03-03 05:11:36.256459+00:00\n2,~~~@@!#!@#,2021-03-03 05:11:31.560503+00:00\n"
     ]
    }
   ],
   "source": [
    "for post in qs:\n",
    "    # print(post.message,post.created_at)\n",
    "    print('{id},{message},{created_at}'.format(**post.__dict__))"
   ]
  },
  {
   "cell_type": "code",
   "execution_count": 9,
   "metadata": {},
   "outputs": [
    {
     "output_type": "execute_result",
     "data": {
      "text/plain": [
       "<QuerySet [<Post: ~~~@@!#!@#>]>"
      ]
     },
     "metadata": {},
     "execution_count": 9
    }
   ],
   "source": [
    "qs=Post.objects.all().filter(message__startswith='~~')\n",
    "qs"
   ]
  },
  {
   "cell_type": "code",
   "execution_count": 10,
   "metadata": {},
   "outputs": [
    {
     "output_type": "execute_result",
     "data": {
      "text/plain": [
       "<QuerySet [<Post: ~~~@@!#!@#>]>"
      ]
     },
     "metadata": {},
     "execution_count": 10
    }
   ],
   "source": [
    "query='~~~'\n",
    "qs=Post.objects.all().filter(message__icontains=query)\\\n",
    "    .order_by('-id')\n",
    "qs\n"
   ]
  },
  {
   "cell_type": "code",
   "execution_count": 11,
   "metadata": {},
   "outputs": [
    {
     "output_type": "stream",
     "name": "stdout",
     "text": [
      "SELECT \"instagram_post\".\"id\", \"instagram_post\".\"author_id\", \"instagram_post\".\"message\", \"instagram_post\".\"is_public\", \"instagram_post\".\"photo\", \"instagram_post\".\"created_at\", \"instagram_post\".\"updated_at\" FROM \"instagram_post\" WHERE (\"instagram_post\".\"message\" LIKE %~~~% ESCAPE '\\' AND (\"instagram_post\".\"id\" >= 2 OR \"instagram_post\".\"message\" LIKE ~~~% ESCAPE '\\') AND \"instagram_post\".\"id\" = 3) ORDER BY \"instagram_post\".\"id\" DESC\n"
     ]
    }
   ],
   "source": [
    "from django.db.models import Q\n",
    "# qs=Post.objects.all().filter(id__gte=2, message__startswith='~~')\n",
    "# qs=Post.objects.all().filter(Q(id__gte=2), Q(message__startswith='~~'))\n",
    "# qs=Post.objects.all().filter(Q(id__gte=2)|Q(message__startswith='~~'))\n",
    "# qs=Post.objects.all().filter(Q(id__gte=2) & Q(message__startswith='~~'))\n",
    "condition=Q(id__gte=2)|Q(message__startswith=query)\n",
    "condition &=Q(id=3)\n",
    "qs=qs.filter(condition)\n",
    "print(qs.query)"
   ]
  },
  {
   "cell_type": "code",
   "execution_count": 12,
   "metadata": {},
   "outputs": [
    {
     "output_type": "execute_result",
     "data": {
      "text/plain": [
       "<QuerySet [<Post: asfasdf!!!!!>, <Post: ~~~@@!#!@#>, <Post: ???????>]>"
      ]
     },
     "metadata": {},
     "execution_count": 12
    }
   ],
   "source": [
    "Post.objects.all()"
   ]
  },
  {
   "cell_type": "code",
   "execution_count": 13,
   "metadata": {},
   "outputs": [
    {
     "output_type": "execute_result",
     "data": {
      "text/plain": [
       "<QuerySet [<Post: asfasdf!!!!!>, <Post: ~~~@@!#!@#>, <Post: ???????>]>"
      ]
     },
     "metadata": {},
     "execution_count": 13
    }
   ],
   "source": [
    "Post.objects.all()[:3]"
   ]
  },
  {
   "cell_type": "code",
   "execution_count": 14,
   "metadata": {},
   "outputs": [
    {
     "output_type": "execute_result",
     "data": {
      "text/plain": [
       "<QuerySet [<Post: ~~~@@!#!@#>, <Post: ???????>]>"
      ]
     },
     "metadata": {},
     "execution_count": 14
    }
   ],
   "source": [
    "Post.objects.all()[1:3]"
   ]
  },
  {
   "cell_type": "code",
   "execution_count": 15,
   "metadata": {},
   "outputs": [
    {
     "output_type": "execute_result",
     "data": {
      "text/plain": [
       "[<Post: ~~~@@!#!@#>]"
      ]
     },
     "metadata": {},
     "execution_count": 15
    }
   ],
   "source": [
    " Post.objects.all()[1:3:2]"
   ]
  },
  {
   "cell_type": "code",
   "execution_count": 16,
   "metadata": {},
   "outputs": [
    {
     "output_type": "execute_result",
     "data": {
      "text/plain": [
       "<QuerySet [<Comment: Comment object (1)>, <Comment: Comment object (2)>]>"
      ]
     },
     "metadata": {},
     "execution_count": 16
    }
   ],
   "source": [
    "from instagram.models import Comment\n",
    "Comment.objects.all()"
   ]
  },
  {
   "cell_type": "code",
   "execution_count": 17,
   "metadata": {},
   "outputs": [
    {
     "output_type": "execute_result",
     "data": {
      "text/plain": [
       "<Post: asfasdf!!!!!>"
      ]
     },
     "metadata": {},
     "execution_count": 17
    }
   ],
   "source": [
    "comment =Comment.objects.first()\n",
    "# Post.objects.get(pk=comment.post_id)\n",
    "comment.post"
   ]
  },
  {
   "cell_type": "code",
   "execution_count": 18,
   "metadata": {},
   "outputs": [
    {
     "output_type": "execute_result",
     "data": {
      "text/plain": [
       "<Post: asfasdf!!!!!>"
      ]
     },
     "metadata": {},
     "execution_count": 18
    }
   ],
   "source": [
    "post=Post.objects.first()\n",
    "post\n"
   ]
  },
  {
   "cell_type": "code",
   "execution_count": 19,
   "metadata": {},
   "outputs": [
    {
     "output_type": "stream",
     "name": "stdout",
     "text": [
      "False\n"
     ]
    },
    {
     "output_type": "execute_result",
     "data": {
      "text/plain": [
       "'comment for ~~~~~@@@@'"
      ]
     },
     "metadata": {},
     "execution_count": 19
    }
   ],
   "source": [
    "Comment.objects.filter(post_id=3)\n",
    "Comment.objects.filter(post__id=3)\n",
    "Comment.objects.filter(post=post)\n",
    "post=Post.objects.get(pk=2)\n",
    "print(post.is_public)\n",
    "post.comment_set.all()[0].message\n"
   ]
  },
  {
   "cell_type": "code",
   "execution_count": 20,
   "metadata": {},
   "outputs": [
    {
     "output_type": "execute_result",
     "data": {
      "text/plain": [
       "<User: youme>"
      ]
     },
     "metadata": {},
     "execution_count": 20
    }
   ],
   "source": [
    "from accounts.models import Profile\n",
    "profile=Profile.objects.first()\n",
    "profile.user"
   ]
  },
  {
   "cell_type": "code",
   "execution_count": 21,
   "metadata": {},
   "outputs": [
    {
     "output_type": "execute_result",
     "data": {
      "text/plain": [
       "<Profile: Profile object (1)>"
      ]
     },
     "metadata": {},
     "execution_count": 21
    }
   ],
   "source": [
    "from django.contrib.auth import get_user_model\n",
    "User=get_user_model()\n",
    "user=User.objects.first()\n",
    "user.profile\n",
    "Profile.objects.get(user=user)"
   ]
  },
  {
   "cell_type": "code",
   "execution_count": 22,
   "metadata": {},
   "outputs": [
    {
     "output_type": "execute_result",
     "data": {
      "text/plain": [
       "<QuerySet [<Tag: ts>, <Tag: nest>, <Tag: python>]>"
      ]
     },
     "metadata": {},
     "execution_count": 22
    }
   ],
   "source": [
    "post.tag_set.all()"
   ]
  },
  {
   "cell_type": "code",
   "execution_count": 23,
   "metadata": {},
   "outputs": [
    {
     "output_type": "execute_result",
     "data": {
      "text/plain": [
       "<QuerySet [<Post: ~~~@@!#!@#>]>"
      ]
     },
     "metadata": {},
     "execution_count": 23
    }
   ],
   "source": [
    "from instagram.models import Tag\n",
    "tag=Tag.objects.first()\n",
    "tag.post_set.all()"
   ]
  },
  {
   "cell_type": "code",
   "execution_count": 24,
   "metadata": {},
   "outputs": [
    {
     "output_type": "execute_result",
     "data": {
      "text/plain": [
       "<QuerySet [<Tag: ts>, <Tag: nest>, <Tag: python>]>"
      ]
     },
     "metadata": {},
     "execution_count": 24
    }
   ],
   "source": [
    "# Tag.objects.create(name='nest')\n",
    "# Tag.objects.create(name='python')\n",
    "tag=Tag.objects.get(name='nest')\n",
    "# post.tag_set.remove(tag)\n",
    "post.tag_set.add(tag)\n",
    "post.tag_set.all()\n"
   ]
  },
  {
   "cell_type": "code",
   "execution_count": 25,
   "metadata": {},
   "outputs": [],
   "source": [
    "tags=Tag.objects.all()\n",
    "post.tag_set.add(*tags)"
   ]
  },
  {
   "cell_type": "code",
   "execution_count": 26,
   "metadata": {},
   "outputs": [
    {
     "output_type": "execute_result",
     "data": {
      "text/plain": [
       "<QuerySet [<Tag: ts>, <Tag: nest>, <Tag: python>]>"
      ]
     },
     "metadata": {},
     "execution_count": 26
    }
   ],
   "source": [
    "post.tag_set.all()"
   ]
  },
  {
   "cell_type": "code",
   "execution_count": 27,
   "metadata": {},
   "outputs": [],
   "source": [
    "def myfn(a,b,c):\n",
    "    print(f'a={a},b={b},c={c}')"
   ]
  },
  {
   "cell_type": "code",
   "execution_count": 28,
   "metadata": {},
   "outputs": [
    {
     "output_type": "stream",
     "name": "stdout",
     "text": [
      "a=1,b=2,c=3\n"
     ]
    }
   ],
   "source": [
    "myfn(1,2,3)"
   ]
  },
  {
   "cell_type": "code",
   "execution_count": 29,
   "metadata": {},
   "outputs": [
    {
     "output_type": "stream",
     "name": "stdout",
     "text": [
      "a=1,b=2,c=3\n"
     ]
    }
   ],
   "source": [
    "param=[1,2,3]\n",
    "myfn(*param)"
   ]
  },
  {
   "cell_type": "code",
   "execution_count": 46,
   "metadata": {},
   "outputs": [
    {
     "output_type": "execute_result",
     "data": {
      "text/plain": [
       "[<Post: asfasdf!!!!!>, <Post: ~~~@@!#!@#>, <Post: ???????>]"
      ]
     },
     "metadata": {},
     "execution_count": 46
    }
   ],
   "source": [
    "# Post.objects.get(pk=1)\n",
    "# post.pk=None\n",
    "# post.save()\n",
    "post_list=list(Post.objects.all())\n",
    "post_list\n",
    "# Post.objects.first().delete()"
   ]
  },
  {
   "cell_type": "code",
   "execution_count": 55,
   "metadata": {},
   "outputs": [],
   "source": [
    "# import random\n",
    "# random.choice(post_list)\n",
    "# for i in range(100):\n",
    "#     post=random.choice(post_list)\n",
    "#     post.pk=None\n",
    "#     post.save()"
   ]
  },
  {
   "cell_type": "code",
   "execution_count": null,
   "metadata": {},
   "outputs": [],
   "source": []
  }
 ],
 "metadata": {
  "kernelspec": {
   "display_name": "Python 3",
   "language": "python",
   "name": "python3"
  },
  "language_info": {
   "codemirror_mode": {
    "name": "ipython",
    "version": 3
   },
   "file_extension": ".py",
   "mimetype": "text/x-python",
   "name": "python",
   "nbconvert_exporter": "python",
   "pygments_lexer": "ipython3",
   "version": "3.9.1-final"
  }
 },
 "nbformat": 4,
 "nbformat_minor": 5
}